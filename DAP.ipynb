{
  "nbformat": 4,
  "nbformat_minor": 0,
  "metadata": {
    "colab": {
      "provenance": []
    },
    "kernelspec": {
      "name": "python3",
      "display_name": "Python 3"
    },
    "language_info": {
      "name": "python"
    }
  },
  "cells": [
    {
      "cell_type": "code",
      "execution_count": null,
      "metadata": {
        "colab": {
          "base_uri": "https://localhost:8080/"
        },
        "id": "HgQOduo-dr1f",
        "outputId": "c83c03c4-1228-409e-e35f-c7f4caa22e7a"
      },
      "outputs": [
        {
          "output_type": "stream",
          "name": "stdout",
          "text": [
            "[1 2 3 4 5]\n"
          ]
        }
      ],
      "source": [
        "import numpy as np\n",
        "arr=np.array([1,2,3,4,5])\n",
        "print(arr)"
      ]
    },
    {
      "cell_type": "code",
      "source": [
        "zeros_arr=np.zeros((3,3),dtype=float)\n",
        "print(zeros_arr)\n",
        "ones_arr=np.ones((2,2),dtype=int)\n",
        "print(ones_arr)\n",
        "arange_arr=np.arange(10)\n",
        "print(arange_arr)"
      ],
      "metadata": {
        "colab": {
          "base_uri": "https://localhost:8080/"
        },
        "id": "IBTlpltXqt-s",
        "outputId": "7ab59ac4-b2f5-4d65-b50d-0aee11978872"
      },
      "execution_count": null,
      "outputs": [
        {
          "output_type": "stream",
          "name": "stdout",
          "text": [
            "[[0. 0. 0.]\n",
            " [0. 0. 0.]\n",
            " [0. 0. 0.]]\n",
            "[[1 1]\n",
            " [1 1]]\n",
            "[0 1 2 3 4 5 6 7 8 9]\n"
          ]
        }
      ]
    },
    {
      "cell_type": "code",
      "source": [
        "#array manipulation\n",
        "reshaped_arr=arr.reshape(5,1)\n",
        "print(reshaped_arr)\n",
        "sliced_arr=arr[2:4]\n",
        "print(sliced_arr)"
      ],
      "metadata": {
        "colab": {
          "base_uri": "https://localhost:8080/"
        },
        "id": "0iNPjn6Dso94",
        "outputId": "1454233f-e0c3-489e-fcb7-58e5aa2827e2"
      },
      "execution_count": null,
      "outputs": [
        {
          "output_type": "stream",
          "name": "stdout",
          "text": [
            "[[1]\n",
            " [2]\n",
            " [3]\n",
            " [4]\n",
            " [5]]\n",
            "[3 4]\n"
          ]
        }
      ]
    },
    {
      "cell_type": "code",
      "source": [
        "a=np.array([1,2,3,4,5,6,7,8])\n",
        "b=a.T\n",
        "print(b)"
      ],
      "metadata": {
        "colab": {
          "base_uri": "https://localhost:8080/"
        },
        "id": "Ix1PB9QKtlWq",
        "outputId": "6dccee72-aa34-46b3-f329-ee1ee3604176"
      },
      "execution_count": null,
      "outputs": [
        {
          "output_type": "stream",
          "name": "stdout",
          "text": [
            "[1 2 3 4 5 6 7 8]\n"
          ]
        }
      ]
    },
    {
      "cell_type": "code",
      "source": [
        "b=np.split(a,4)\n",
        "print(b)"
      ],
      "metadata": {
        "colab": {
          "base_uri": "https://localhost:8080/"
        },
        "id": "Hc6z7UGJuAnh",
        "outputId": "2bc9f79d-f31e-462d-f936-63d4088d1e8e"
      },
      "execution_count": null,
      "outputs": [
        {
          "output_type": "stream",
          "name": "stdout",
          "text": [
            "[array([1, 2]), array([3, 4]), array([5, 6]), array([7, 8])]\n"
          ]
        }
      ]
    },
    {
      "cell_type": "code",
      "source": [
        "a=np.array([[1,2],[3,4]])\n",
        "b=np.array([[5,6],[7,8]])\n",
        "c=np.dot(a,b)\n",
        "print(c)\n",
        "d=np.linalg.eig(c)\n",
        "print(d)"
      ],
      "metadata": {
        "colab": {
          "base_uri": "https://localhost:8080/"
        },
        "id": "QlnF5ujnwGHQ",
        "outputId": "e2a91bdb-2218-4750-9e76-19ff6e5b149d"
      },
      "execution_count": null,
      "outputs": [
        {
          "output_type": "stream",
          "name": "stdout",
          "text": [
            "[[19 22]\n",
            " [43 50]]\n",
            "EigResult(eigenvalues=array([5.80198014e-02, 6.89419802e+01]), eigenvectors=array([[-0.75781077, -0.40313049],\n",
            "       [ 0.65247439, -0.91514251]]))\n"
          ]
        }
      ]
    },
    {
      "cell_type": "code",
      "source": [
        "data=np.loadtxt(\"/content/data.txt.txt\",dtype=int)\n",
        "d=np.savetxt(\"/content/date.txt\",data)\n",
        "print(d)\n",
        "print(data)"
      ],
      "metadata": {
        "id": "WQbweRcozURL",
        "colab": {
          "base_uri": "https://localhost:8080/"
        },
        "outputId": "125ded44-b38a-498d-8f88-b75c52ee4228"
      },
      "execution_count": null,
      "outputs": [
        {
          "output_type": "stream",
          "name": "stdout",
          "text": [
            "None\n",
            "[1 2 3 4 5 6]\n"
          ]
        }
      ]
    },
    {
      "cell_type": "code",
      "source": [
        "data=np.loadtxt(\"/content/drive/MyDrive/dataset/data.txt.txt\",dtype=int)\n",
        "d=np.savetxt(\"/content/date.txt\",data)\n",
        "print(d)\n",
        "print(data)"
      ],
      "metadata": {
        "colab": {
          "base_uri": "https://localhost:8080/"
        },
        "id": "zRQx0MicMzEO",
        "outputId": "eefec820-c0b8-47b4-fcdb-d6ef847e0a93"
      },
      "execution_count": null,
      "outputs": [
        {
          "output_type": "stream",
          "name": "stdout",
          "text": [
            "None\n",
            "[1 2 3 4 5 6]\n"
          ]
        }
      ]
    },
    {
      "cell_type": "code",
      "source": [
        "data=np.loadtxt(\"/content/drive/MyDrive/dataset/data.txt.txt\",dtype=int)\n",
        "d=np.savetxt(\"/content/date.txt\",data)\n",
        "print(d)\n",
        "print(data)"
      ],
      "metadata": {
        "colab": {
          "base_uri": "https://localhost:8080/"
        },
        "id": "75mMu59W2xA0",
        "outputId": "fa3602c0-9c95-42e2-da08-892cb8d44baf"
      },
      "execution_count": null,
      "outputs": [
        {
          "output_type": "stream",
          "name": "stdout",
          "text": [
            "None\n",
            "[1 2 3 4 5 6]\n"
          ]
        }
      ]
    },
    {
      "cell_type": "code",
      "source": [
        "ar_arr=np.arange(0,1000,5)\n",
        "print(ar_arr)"
      ],
      "metadata": {
        "colab": {
          "base_uri": "https://localhost:8080/"
        },
        "id": "1ezDHygsM34Y",
        "outputId": "323b221a-6b74-41da-af40-5f96b844c443"
      },
      "execution_count": null,
      "outputs": [
        {
          "output_type": "stream",
          "name": "stdout",
          "text": [
            "[  0   5  10  15  20  25  30  35  40  45  50  55  60  65  70  75  80  85\n",
            "  90  95 100 105 110 115 120 125 130 135 140 145 150 155 160 165 170 175\n",
            " 180 185 190 195 200 205 210 215 220 225 230 235 240 245 250 255 260 265\n",
            " 270 275 280 285 290 295 300 305 310 315 320 325 330 335 340 345 350 355\n",
            " 360 365 370 375 380 385 390 395 400 405 410 415 420 425 430 435 440 445\n",
            " 450 455 460 465 470 475 480 485 490 495 500 505 510 515 520 525 530 535\n",
            " 540 545 550 555 560 565 570 575 580 585 590 595 600 605 610 615 620 625\n",
            " 630 635 640 645 650 655 660 665 670 675 680 685 690 695 700 705 710 715\n",
            " 720 725 730 735 740 745 750 755 760 765 770 775 780 785 790 795 800 805\n",
            " 810 815 820 825 830 835 840 845 850 855 860 865 870 875 880 885 890 895\n",
            " 900 905 910 915 920 925 930 935 940 945 950 955 960 965 970 975 980 985\n",
            " 990 995]\n"
          ]
        }
      ]
    },
    {
      "cell_type": "code",
      "source": [
        "arange=np.arange(0,100,5)\n",
        "print(arange)"
      ],
      "metadata": {
        "colab": {
          "base_uri": "https://localhost:8080/"
        },
        "id": "_Pi_L0FRNaKP",
        "outputId": "097f016d-ccdc-418b-bf84-e91e1a76c3bf"
      },
      "execution_count": null,
      "outputs": [
        {
          "output_type": "stream",
          "name": "stdout",
          "text": [
            "[ 0  5 10 15 20 25 30 35 40 45 50 55 60 65 70 75 80 85 90 95]\n"
          ]
        }
      ]
    },
    {
      "cell_type": "code",
      "source": [
        "m=np.savetxt(\"/content/arange.txt\",arange)"
      ],
      "metadata": {
        "id": "6JVxEv8LPnXh"
      },
      "execution_count": null,
      "outputs": []
    },
    {
      "cell_type": "code",
      "source": [
        "a=np.random.rand()\n",
        "print(a)"
      ],
      "metadata": {
        "colab": {
          "base_uri": "https://localhost:8080/"
        },
        "id": "PUSQ_ozySA4i",
        "outputId": "52ddf823-c573-4ff9-d97f-fc1f730b9eb2"
      },
      "execution_count": null,
      "outputs": [
        {
          "output_type": "stream",
          "name": "stdout",
          "text": [
            "0.21123468224069186\n"
          ]
        }
      ]
    },
    {
      "cell_type": "code",
      "source": [
        "b=np.random.randint(0,2)\n",
        "print(b)"
      ],
      "metadata": {
        "colab": {
          "base_uri": "https://localhost:8080/"
        },
        "id": "_8VyT8DeSkSE",
        "outputId": "0db7bc68-280b-45d9-9a44-f4445b41005c"
      },
      "execution_count": null,
      "outputs": [
        {
          "output_type": "stream",
          "name": "stdout",
          "text": [
            "0\n"
          ]
        }
      ]
    },
    {
      "cell_type": "code",
      "source": [
        "a=np.array([[1,2],[3,4]])\n",
        "print(a)\n",
        "print(a.ndim)\n",
        "print(a.shape)"
      ],
      "metadata": {
        "colab": {
          "base_uri": "https://localhost:8080/"
        },
        "id": "hKloiwT2TGx6",
        "outputId": "6748d60b-3981-4a90-f319-54eedabd5d94"
      },
      "execution_count": null,
      "outputs": [
        {
          "output_type": "stream",
          "name": "stdout",
          "text": [
            "[[1 2]\n",
            " [3 4]]\n",
            "2\n",
            "(2, 2)\n"
          ]
        }
      ]
    },
    {
      "cell_type": "code",
      "source": [
        "a=np.linspace(0.8,2,5)\n",
        "print(a)"
      ],
      "metadata": {
        "colab": {
          "base_uri": "https://localhost:8080/"
        },
        "id": "z54sWWlsUKyU",
        "outputId": "6b93877d-dff1-4b13-9083-e7cbbc9560b7"
      },
      "execution_count": null,
      "outputs": [
        {
          "output_type": "stream",
          "name": "stdout",
          "text": [
            "[0.8 1.1 1.4 1.7 2. ]\n"
          ]
        }
      ]
    },
    {
      "cell_type": "code",
      "source": [
        "a=np.arange(24).reshape(2,3,4)\n",
        "print(a)"
      ],
      "metadata": {
        "colab": {
          "base_uri": "https://localhost:8080/"
        },
        "id": "CLIT0QtpUzXt",
        "outputId": "f7b35bcc-92e6-4856-e95c-b2659cbb7341"
      },
      "execution_count": null,
      "outputs": [
        {
          "output_type": "stream",
          "name": "stdout",
          "text": [
            "[[[ 0  1  2  3]\n",
            "  [ 4  5  6  7]\n",
            "  [ 8  9 10 11]]\n",
            "\n",
            " [[12 13 14 15]\n",
            "  [16 17 18 19]\n",
            "  [20 21 22 23]]]\n"
          ]
        }
      ]
    },
    {
      "cell_type": "code",
      "source": [
        "a=np.array([[1,2],[3,4]])\n",
        "b=np.array([[5,6],[7,8]])\n",
        "print(a*b)"
      ],
      "metadata": {
        "colab": {
          "base_uri": "https://localhost:8080/"
        },
        "id": "DlPkt17YWcD7",
        "outputId": "bb66fb6e-045c-4b09-f5a5-e4d6d1ec47f4"
      },
      "execution_count": null,
      "outputs": [
        {
          "output_type": "stream",
          "name": "stdout",
          "text": [
            "[[ 5 12]\n",
            " [21 32]]\n"
          ]
        }
      ]
    },
    {
      "cell_type": "code",
      "source": [
        "print(a@b)\n"
      ],
      "metadata": {
        "colab": {
          "base_uri": "https://localhost:8080/"
        },
        "id": "bni6yA-iWqrv",
        "outputId": "22018d53-a939-46f1-e764-f24bec9f9746"
      },
      "execution_count": null,
      "outputs": [
        {
          "output_type": "stream",
          "name": "stdout",
          "text": [
            "[[19 22]\n",
            " [43 50]]\n"
          ]
        }
      ]
    },
    {
      "cell_type": "code",
      "source": [
        "c=np.dot(a,b)"
      ],
      "metadata": {
        "id": "bBS9wNgOXGzT"
      },
      "execution_count": null,
      "outputs": []
    },
    {
      "cell_type": "code",
      "source": [
        "c=np.dot(a,b)\n",
        "print(c)"
      ],
      "metadata": {
        "colab": {
          "base_uri": "https://localhost:8080/"
        },
        "id": "MIuwcSl7XRF3",
        "outputId": "fc6ec92b-9a3a-4aff-c699-d27195b3e628"
      },
      "execution_count": null,
      "outputs": [
        {
          "output_type": "stream",
          "name": "stdout",
          "text": [
            "[[19 22]\n",
            " [43 50]]\n"
          ]
        }
      ]
    },
    {
      "cell_type": "code",
      "source": [
        "from numpy import random"
      ],
      "metadata": {
        "id": "dpXKBss_ZKlt"
      },
      "execution_count": null,
      "outputs": []
    },
    {
      "cell_type": "code",
      "source": [
        "a=np.ones((2,3),dtype=int)\n",
        "print(a)"
      ],
      "metadata": {
        "colab": {
          "base_uri": "https://localhost:8080/"
        },
        "id": "nCUkqFk1ZTr5",
        "outputId": "9be03c3e-f9b1-42ce-f1e6-f7e4cb4fe31e"
      },
      "execution_count": null,
      "outputs": [
        {
          "output_type": "stream",
          "name": "stdout",
          "text": [
            "[[1 1 1]\n",
            " [1 1 1]]\n"
          ]
        }
      ]
    },
    {
      "cell_type": "code",
      "source": [
        "print(a.sum())"
      ],
      "metadata": {
        "colab": {
          "base_uri": "https://localhost:8080/"
        },
        "id": "x29GknNVZ0S-",
        "outputId": "193c2f42-b516-465d-eda6-15067427c447"
      },
      "execution_count": null,
      "outputs": [
        {
          "output_type": "stream",
          "name": "stdout",
          "text": [
            "6\n"
          ]
        }
      ]
    },
    {
      "cell_type": "code",
      "source": [
        "print(a.sum(axis=1))"
      ],
      "metadata": {
        "colab": {
          "base_uri": "https://localhost:8080/",
          "height": 141
        },
        "id": "ymc3W8qlaCHV",
        "outputId": "db159163-479e-4d28-9ae8-34df10ba747d"
      },
      "execution_count": null,
      "outputs": [
        {
          "output_type": "error",
          "ename": "NameError",
          "evalue": "name 'a' is not defined",
          "traceback": [
            "\u001b[0;31m---------------------------------------------------------------------------\u001b[0m",
            "\u001b[0;31mNameError\u001b[0m                                 Traceback (most recent call last)",
            "\u001b[0;32m<ipython-input-1-aa04c8150f2c>\u001b[0m in \u001b[0;36m<cell line: 1>\u001b[0;34m()\u001b[0m\n\u001b[0;32m----> 1\u001b[0;31m \u001b[0mprint\u001b[0m\u001b[0;34m(\u001b[0m\u001b[0ma\u001b[0m\u001b[0;34m.\u001b[0m\u001b[0msum\u001b[0m\u001b[0;34m(\u001b[0m\u001b[0maxis\u001b[0m\u001b[0;34m=\u001b[0m\u001b[0;36m1\u001b[0m\u001b[0;34m)\u001b[0m\u001b[0;34m)\u001b[0m\u001b[0;34m\u001b[0m\u001b[0;34m\u001b[0m\u001b[0m\n\u001b[0m",
            "\u001b[0;31mNameError\u001b[0m: name 'a' is not defined"
          ]
        }
      ]
    },
    {
      "cell_type": "code",
      "source": [
        "c=np.random.random((2,2))\n",
        "a=np.ceil(np.random.random((2,2)))\n",
        "print(a)"
      ],
      "metadata": {
        "colab": {
          "base_uri": "https://localhost:8080/"
        },
        "id": "vgijYYxPakT2",
        "outputId": "3c4eff7b-0a68-4aab-ac8a-a33ebc8a8ccf"
      },
      "execution_count": null,
      "outputs": [
        {
          "output_type": "stream",
          "name": "stdout",
          "text": [
            "[[1. 1.]\n",
            " [1. 1.]]\n"
          ]
        }
      ]
    },
    {
      "cell_type": "code",
      "source": [
        "a=np.array([[1,2],[3,4]])\n",
        "print(a)\n",
        "print(a.max())\n",
        "print(a.min())"
      ],
      "metadata": {
        "colab": {
          "base_uri": "https://localhost:8080/"
        },
        "id": "K25yt1J7cgNF",
        "outputId": "9cf8ed66-8922-4b45-ccf1-4db9bd4daabf"
      },
      "execution_count": null,
      "outputs": [
        {
          "output_type": "stream",
          "name": "stdout",
          "text": [
            "[[1 2]\n",
            " [3 4]]\n",
            "4\n",
            "1\n"
          ]
        }
      ]
    },
    {
      "cell_type": "code",
      "source": [
        "a=np.array([[1,2],[3,4]])\n",
        "print(a)\n",
        "print(a.max())\n",
        "print(a.min())\n"
      ],
      "metadata": {
        "colab": {
          "base_uri": "https://localhost:8080/"
        },
        "id": "w5agmm25dQbj",
        "outputId": "2f5fe7d1-be8c-4695-c71e-9892277ae739"
      },
      "execution_count": null,
      "outputs": [
        {
          "output_type": "stream",
          "name": "stdout",
          "text": [
            "[[1 2]\n",
            " [3 4]]\n",
            "4\n",
            "1\n",
            "[[1 3]\n",
            " [3 7]]\n"
          ]
        }
      ]
    },
    {
      "cell_type": "code",
      "source": [
        "a=np.array([[1,2],[3,4]])\n",
        "print(a)\n",
        "print(a.max())\n",
        "print(a.min())\n",
        "print(a.cumsum(axis=0))"
      ],
      "metadata": {
        "colab": {
          "base_uri": "https://localhost:8080/"
        },
        "id": "JF03Pixldook",
        "outputId": "4fdce59a-d36d-47a9-cdbb-3d1828b125f5"
      },
      "execution_count": null,
      "outputs": [
        {
          "output_type": "stream",
          "name": "stdout",
          "text": [
            "[[1 2]\n",
            " [3 4]]\n",
            "4\n",
            "1\n",
            "[[1 2]\n",
            " [4 6]]\n"
          ]
        }
      ]
    },
    {
      "cell_type": "code",
      "source": [
        "a=np.array([1,2,3,4,5,6])\n",
        "a.resize(2,3)\n",
        "b=np.array([11,12,13,14,15,16])\n",
        "b.resize(2,3)\n",
        "print(np.hstack((a,b)))"
      ],
      "metadata": {
        "colab": {
          "base_uri": "https://localhost:8080/"
        },
        "id": "Q9MEvVzedyVZ",
        "outputId": "7d36f432-985d-4dff-9558-6397ee09ba8b"
      },
      "execution_count": null,
      "outputs": [
        {
          "output_type": "stream",
          "name": "stdout",
          "text": [
            "[[ 1  2  3 11 12 13]\n",
            " [ 4  5  6 14 15 16]]\n"
          ]
        }
      ]
    },
    {
      "cell_type": "code",
      "source": [
        "a=np.arange(30).reshape(2,3,5)\n",
        "print(a)\n",
        "print(np.dstack(a))"
      ],
      "metadata": {
        "colab": {
          "base_uri": "https://localhost:8080/"
        },
        "id": "N1E0GO4phNAj",
        "outputId": "12b0f379-25c0-43b8-b33e-836e00762833"
      },
      "execution_count": null,
      "outputs": [
        {
          "output_type": "stream",
          "name": "stdout",
          "text": [
            "[[[ 0  1  2  3  4]\n",
            "  [ 5  6  7  8  9]\n",
            "  [10 11 12 13 14]]\n",
            "\n",
            " [[15 16 17 18 19]\n",
            "  [20 21 22 23 24]\n",
            "  [25 26 27 28 29]]]\n",
            "[[[ 0 15]\n",
            "  [ 1 16]\n",
            "  [ 2 17]\n",
            "  [ 3 18]\n",
            "  [ 4 19]]\n",
            "\n",
            " [[ 5 20]\n",
            "  [ 6 21]\n",
            "  [ 7 22]\n",
            "  [ 8 23]\n",
            "  [ 9 24]]\n",
            "\n",
            " [[10 25]\n",
            "  [11 26]\n",
            "  [12 27]\n",
            "  [13 28]\n",
            "  [14 29]]]\n"
          ]
        }
      ]
    },
    {
      "cell_type": "markdown",
      "source": [
        "no.of rows become no.of groups\n",
        "column become rows\n",
        "group become column"
      ],
      "metadata": {
        "id": "snm1dmBPh8Gv"
      }
    },
    {
      "cell_type": "code",
      "source": [
        "a=np.array([1,2,3,4,5,6])\n",
        "a.resize(2,3)\n",
        "b=np.array([11,12,13,14,25,26])\n",
        "b.resize(2,3)\n",
        "print(np.hstack((a,b)))"
      ],
      "metadata": {
        "id": "OtJicjIWk872",
        "colab": {
          "base_uri": "https://localhost:8080/"
        },
        "outputId": "6432d1b3-1030-4c2c-9eb0-df7aec4f7b9f"
      },
      "execution_count": null,
      "outputs": [
        {
          "output_type": "stream",
          "name": "stdout",
          "text": [
            "[[ 1  2  3 11 12 13]\n",
            " [ 4  5  6 14 25 26]]\n"
          ]
        }
      ]
    },
    {
      "cell_type": "code",
      "source": [
        "a1=np.eye(4)\n",
        "print(a1)\n",
        "a1=np.full((2,2),3)\n",
        "print(a1)\n",
        "print(a1.itemsize)"
      ],
      "metadata": {
        "colab": {
          "base_uri": "https://localhost:8080/"
        },
        "id": "ifGxJXu6WsFj",
        "outputId": "cfa1c76c-9a7c-4d7d-dc08-e3876cc56ab6"
      },
      "execution_count": null,
      "outputs": [
        {
          "output_type": "stream",
          "name": "stdout",
          "text": [
            "[[1. 0. 0. 0.]\n",
            " [0. 1. 0. 0.]\n",
            " [0. 0. 1. 0.]\n",
            " [0. 0. 0. 1.]]\n",
            "[[3 3]\n",
            " [3 3]]\n",
            "8\n"
          ]
        }
      ]
    },
    {
      "cell_type": "code",
      "source": [
        "x=[1,2,3]\n",
        "a=np.asarray(x)\n",
        "print(a)\n",
        "print(type(a))"
      ],
      "metadata": {
        "colab": {
          "base_uri": "https://localhost:8080/"
        },
        "id": "bQjKaKyVZxYT",
        "outputId": "892a1882-9d11-4ee3-d10d-bdc84d82806f"
      },
      "execution_count": null,
      "outputs": [
        {
          "output_type": "stream",
          "name": "stdout",
          "text": [
            "[1 2 3]\n",
            "<class 'numpy.ndarray'>\n"
          ]
        }
      ]
    },
    {
      "cell_type": "code",
      "source": [
        "x=np.array([1,4,0],float)\n",
        "y=np.array([2,2,1],float)\n",
        "print(np.inner(x,y))\n",
        "print(np.outer(x,y))\n",
        "print(np.cross(x,y))"
      ],
      "metadata": {
        "colab": {
          "base_uri": "https://localhost:8080/"
        },
        "id": "8XZWRILwatB4",
        "outputId": "2a161edc-6416-4a18-f05c-2e7097f32829"
      },
      "execution_count": null,
      "outputs": [
        {
          "output_type": "stream",
          "name": "stdout",
          "text": [
            "10.0\n",
            "[[2. 2. 1.]\n",
            " [8. 8. 4.]\n",
            " [0. 0. 0.]]\n",
            "[ 4. -1. -6.]\n"
          ]
        }
      ]
    },
    {
      "cell_type": "markdown",
      "source": [
        "np.cross=gives the product"
      ],
      "metadata": {
        "id": "vZ6Cvicacs47"
      }
    },
    {
      "cell_type": "code",
      "source": [
        "a=np.array([1.2,2.8,3.5,4.6,5.1,6.7,7.4])\n",
        "print(a)\n",
        "b=np.rint(a)\n",
        "print(b)"
      ],
      "metadata": {
        "colab": {
          "base_uri": "https://localhost:8080/"
        },
        "id": "A1QgeGT7c8Ic",
        "outputId": "0d0ae744-b217-4078-96fc-d62f87005b9b"
      },
      "execution_count": null,
      "outputs": [
        {
          "output_type": "stream",
          "name": "stdout",
          "text": [
            "[1.2 2.8 3.5 4.6 5.1 6.7 7.4]\n",
            "[1. 3. 4. 5. 5. 7. 7.]\n"
          ]
        }
      ]
    },
    {
      "cell_type": "code",
      "source": [
        "a=np.array([1,2,3,4,5])\n",
        "b=np.array([6,7,8,9,10])\n",
        "c=np.true_divide(a,b)\n",
        "print(c)"
      ],
      "metadata": {
        "colab": {
          "base_uri": "https://localhost:8080/"
        },
        "id": "2eKkdEA0dnjj",
        "outputId": "3028c221-9869-458b-d8c9-d615507817e3"
      },
      "execution_count": null,
      "outputs": [
        {
          "output_type": "stream",
          "name": "stdout",
          "text": [
            "[0.16666667 0.28571429 0.375      0.44444444 0.5       ]\n"
          ]
        }
      ]
    },
    {
      "cell_type": "code",
      "source": [
        "a=np.array([1,1,2,2,3,3,4,4])\n",
        "b=np.unique(a)\n",
        "print(b)"
      ],
      "metadata": {
        "colab": {
          "base_uri": "https://localhost:8080/"
        },
        "id": "d26SMh9SeWPC",
        "outputId": "a3b3d822-5fa8-4954-8a31-8694ba86a57d"
      },
      "execution_count": null,
      "outputs": [
        {
          "output_type": "stream",
          "name": "stdout",
          "text": [
            "[1 2 3 4]\n"
          ]
        }
      ]
    },
    {
      "cell_type": "code",
      "source": [
        "a=np.array([[1,2],[3,4]])\n",
        "b=np.array([[1,2],[5,8]])\n",
        "c=np.union1d(a,b)\n",
        "print(c)"
      ],
      "metadata": {
        "colab": {
          "base_uri": "https://localhost:8080/"
        },
        "id": "IqESYtIxepUh",
        "outputId": "9dd4b0fa-8181-4116-ae4f-0c2ba917d978"
      },
      "execution_count": null,
      "outputs": [
        {
          "output_type": "stream",
          "name": "stdout",
          "text": [
            "[1 2 3 4 5 8]\n"
          ]
        }
      ]
    },
    {
      "cell_type": "code",
      "source": [
        "a=np.array([[1,2],[3,4]])\n",
        "b=np.array([[1,2],[5,8]])\n",
        "c=np.intersect1d(a,b)\n",
        "print(c)"
      ],
      "metadata": {
        "colab": {
          "base_uri": "https://localhost:8080/"
        },
        "id": "BpV8TjE3fu_n",
        "outputId": "8a9f305a-9914-4cdf-aa13-8aff256f1c93"
      },
      "execution_count": null,
      "outputs": [
        {
          "output_type": "stream",
          "name": "stdout",
          "text": [
            "[1 2]\n"
          ]
        }
      ]
    },
    {
      "cell_type": "code",
      "source": [
        "a=np.array([[1,2],[3,4]])\n",
        "b=np.array([[1,2],[5,8]])\n",
        "c=np.setdiff1d(a,b)\n",
        "print(c)"
      ],
      "metadata": {
        "colab": {
          "base_uri": "https://localhost:8080/"
        },
        "id": "Q1XVVTjSf_dP",
        "outputId": "583d9a83-9832-4b9c-cd9a-e4fcca4ddd8c"
      },
      "execution_count": null,
      "outputs": [
        {
          "output_type": "stream",
          "name": "stdout",
          "text": [
            "[3 4]\n"
          ]
        }
      ]
    },
    {
      "cell_type": "code",
      "source": [
        "a=8\n",
        "b=6\n",
        "c=np.hypot(a,b)\n",
        "print(c)"
      ],
      "metadata": {
        "colab": {
          "base_uri": "https://localhost:8080/"
        },
        "id": "0DKyaSo_g_v5",
        "outputId": "a2a70cf6-46ed-43ca-f3b5-63bc9b896ebf"
      },
      "execution_count": null,
      "outputs": [
        {
          "output_type": "stream",
          "name": "stdout",
          "text": [
            "10.0\n"
          ]
        }
      ]
    },
    {
      "cell_type": "code",
      "source": [
        "x=np.sin(0)"
      ],
      "metadata": {
        "colab": {
          "base_uri": "https://localhost:8080/"
        },
        "id": "dabsZVSkhaM6",
        "outputId": "ddaeaa89-58ad-4e2b-ab19-1b7472d9c98d"
      },
      "execution_count": null,
      "outputs": [
        {
          "output_type": "execute_result",
          "data": {
            "text/plain": [
              "0.0"
            ]
          },
          "metadata": {},
          "execution_count": 31
        }
      ]
    },
    {
      "cell_type": "code",
      "source": [
        "a=np.array([10,21,30,40,50,60])\n",
        "b=np.array([20,21,2,20,25,25])\n",
        "c=np.divmod(a,b)\n",
        "print(c)"
      ],
      "metadata": {
        "colab": {
          "base_uri": "https://localhost:8080/"
        },
        "id": "Dk2ocRIJhmo4",
        "outputId": "2858db06-37c3-42dd-81a9-b603c31bf826"
      },
      "execution_count": null,
      "outputs": [
        {
          "output_type": "stream",
          "name": "stdout",
          "text": [
            "(array([ 0,  1, 15,  2,  2,  2]), array([10,  0,  0,  0,  0, 10]))\n"
          ]
        }
      ]
    },
    {
      "cell_type": "code",
      "source": [
        "a=np.array([10,21,30,40,50,60])\n",
        "b=np.array([20,21,2,20,25,25])\n",
        "c=np.mod(a,b)\n",
        "print(c)"
      ],
      "metadata": {
        "colab": {
          "base_uri": "https://localhost:8080/"
        },
        "id": "56NIOHqiifAJ",
        "outputId": "0dcaed26-7c81-405d-e823-b7a4629b92ba"
      },
      "execution_count": null,
      "outputs": [
        {
          "output_type": "stream",
          "name": "stdout",
          "text": [
            "[10  0  0  0  0 10]\n"
          ]
        }
      ]
    },
    {
      "cell_type": "code",
      "source": [
        "a=np.array([10,21,30,40,50,60])\n",
        "b=np.array([20,21,2,20,25,25])\n",
        "c=np.divide(a,b)\n",
        "print(c)"
      ],
      "metadata": {
        "colab": {
          "base_uri": "https://localhost:8080/"
        },
        "id": "ihykPl_4imJe",
        "outputId": "43585496-fea4-4f48-c533-f58d0890917b"
      },
      "execution_count": null,
      "outputs": [
        {
          "output_type": "stream",
          "name": "stdout",
          "text": [
            "[ 0.5  1.  15.   2.   2.   2.4]\n"
          ]
        }
      ]
    },
    {
      "cell_type": "code",
      "source": [
        "a=np.array([10,21,30,40,50,60])\n",
        "b=np.array([20,21,2,20,25,25])\n",
        "c=np.multiply(a,b)\n",
        "print(c)"
      ],
      "metadata": {
        "colab": {
          "base_uri": "https://localhost:8080/"
        },
        "id": "BJqlTyETjBYA",
        "outputId": "b42953fc-f441-49a3-8742-cec79f2589ca"
      },
      "execution_count": null,
      "outputs": [
        {
          "output_type": "stream",
          "name": "stdout",
          "text": [
            "[ 200  441   60  800 1250 1500]\n"
          ]
        }
      ]
    },
    {
      "cell_type": "code",
      "source": [
        "a=np.array([10,21,30,40,50,60])\n",
        "b=np.array([20,21,2,20,25,25])\n",
        "c=np.matmul(a,b)\n",
        "print(c)"
      ],
      "metadata": {
        "colab": {
          "base_uri": "https://localhost:8080/"
        },
        "id": "WxLy66wTjN0e",
        "outputId": "33a45782-c437-471a-b20c-94c45e493217"
      },
      "execution_count": null,
      "outputs": [
        {
          "output_type": "stream",
          "name": "stdout",
          "text": [
            "4251\n"
          ]
        }
      ]
    },
    {
      "cell_type": "code",
      "source": [
        "from numpy import random"
      ],
      "metadata": {
        "id": "X80POyb4jVHP"
      },
      "execution_count": null,
      "outputs": []
    },
    {
      "cell_type": "code",
      "source": [
        "x=random.normal(size=(2,3))\n",
        "print(x)"
      ],
      "metadata": {
        "colab": {
          "base_uri": "https://localhost:8080/"
        },
        "id": "GXv1c9d1jZS2",
        "outputId": "6690b586-dd26-471b-d569-c08bc789906c"
      },
      "execution_count": null,
      "outputs": [
        {
          "output_type": "stream",
          "name": "stdout",
          "text": [
            "[[ 0.30171591  1.29602768 -1.27132467]\n",
            " [-0.54333324 -1.33518826  0.763955  ]]\n"
          ]
        }
      ]
    },
    {
      "cell_type": "code",
      "source": [
        "x=random.normal(loc=1,scale=2,size=(2,3))\n",
        "print(x)"
      ],
      "metadata": {
        "colab": {
          "base_uri": "https://localhost:8080/"
        },
        "id": "nYFRQdBtjvsE",
        "outputId": "ec873ecf-771e-4b5a-f83a-b7ec8a5920ca"
      },
      "execution_count": null,
      "outputs": [
        {
          "output_type": "stream",
          "name": "stdout",
          "text": [
            "[[-0.74852491  1.68342427  0.41242905]\n",
            " [ 2.54357528 -2.24946306  0.2589739 ]]\n"
          ]
        }
      ]
    },
    {
      "cell_type": "code",
      "source": [
        "x=random.binomial(n=12,p=0.5,size=10)\n",
        "print(x)"
      ],
      "metadata": {
        "colab": {
          "base_uri": "https://localhost:8080/"
        },
        "id": "Z3Br7WjElqNZ",
        "outputId": "d0de8d0d-b801-4464-e076-78ef0fd461bd"
      },
      "execution_count": null,
      "outputs": [
        {
          "output_type": "stream",
          "name": "stdout",
          "text": [
            "[5 6 6 7 7 5 5 7 4 7]\n"
          ]
        }
      ]
    },
    {
      "cell_type": "code",
      "source": [
        "x=random.poisson(lam=2,size=10)\n",
        "print(x)"
      ],
      "metadata": {
        "colab": {
          "base_uri": "https://localhost:8080/"
        },
        "id": "tDbxFsiFmA8X",
        "outputId": "d6e0505c-d5e2-43c0-9673-6f430bbdae42"
      },
      "execution_count": null,
      "outputs": [
        {
          "output_type": "stream",
          "name": "stdout",
          "text": [
            "[2 5 2 1 2 2 3 5 0 0]\n"
          ]
        }
      ]
    },
    {
      "cell_type": "code",
      "source": [
        "x=random.choice(np.array([1,2,3,4]))\n",
        "print(x)"
      ],
      "metadata": {
        "colab": {
          "base_uri": "https://localhost:8080/"
        },
        "id": "JqszUA7HmZ-O",
        "outputId": "0efc473f-5bd2-4812-a5cc-ad81ef10a0e3"
      },
      "execution_count": null,
      "outputs": [
        {
          "output_type": "stream",
          "name": "stdout",
          "text": [
            "3\n"
          ]
        }
      ]
    },
    {
      "cell_type": "code",
      "source": [
        "x=random.choice([3,5],p=[0.5,0.5],size=(3,5))\n",
        "print(x)"
      ],
      "metadata": {
        "colab": {
          "base_uri": "https://localhost:8080/"
        },
        "id": "A52mxulLmm43",
        "outputId": "b0f0350a-bd90-4be1-a0f8-3db3f924cbf0"
      },
      "execution_count": null,
      "outputs": [
        {
          "output_type": "stream",
          "name": "stdout",
          "text": [
            "[[3 5 5 3 3]\n",
            " [3 5 5 3 5]\n",
            " [5 5 5 5 3]]\n"
          ]
        }
      ]
    },
    {
      "cell_type": "code",
      "source": [
        "import numpy as np\n",
        "arr=np.array([1,2,3,4,5])\n",
        "print(arr)"
      ],
      "metadata": {
        "colab": {
          "base_uri": "https://localhost:8080/"
        },
        "id": "4tz7ZL0EVqfn",
        "outputId": "ae377d6d-09c2-46ad-a95c-32c118ecdfb7"
      },
      "execution_count": null,
      "outputs": [
        {
          "output_type": "stream",
          "name": "stdout",
          "text": [
            "[1 2 3 4 5]\n"
          ]
        }
      ]
    },
    {
      "cell_type": "code",
      "source": [
        "import numpy as np\n",
        "import matplotlib.pyplot as plt\n",
        "w=np.array([1,0,2,0,3,7,8,9,7,5])\n",
        "runs=np.array([100,50,91,78,89,25,34,19,9,10])\n",
        "plt.scatter(w,runs,color='red',label='india score')\n",
        "plt.title('IndvsAus_score')\n",
        "plt.legend(loc='best')\n",
        "plt.show()"
      ],
      "metadata": {
        "colab": {
          "base_uri": "https://localhost:8080/",
          "height": 452
        },
        "id": "KfFhxv_Kz_5z",
        "outputId": "dc9b38e8-b4c0-4ce3-e773-d0ccfee35c1d"
      },
      "execution_count": null,
      "outputs": [
        {
          "output_type": "display_data",
          "data": {
            "text/plain": [
              "<Figure size 640x480 with 1 Axes>"
            ],
            "image/png": "[encoded data removed]"
          },
          "metadata": {}
        }
      ]
    },
    {
      "cell_type": "code",
      "source": [
        "import numpy as np\n",
        "import matplotlib.pyplot as plt\n",
        "tigar=np.linspace(-2*np.pi,2*np.pi,100)\n",
        "print(tigar)"
      ],
      "metadata": {
        "colab": {
          "base_uri": "https://localhost:8080/"
        },
        "id": "LY5BUqzl17Fg",
        "outputId": "40161fe2-f3c1-4f4f-ba06-b970781417ff"
      },
      "execution_count": null,
      "outputs": [
        {
          "output_type": "stream",
          "name": "stdout",
          "text": [
            "[-6.28318531 -6.15625227 -6.02931923 -5.9023862  -5.77545316 -5.64852012\n",
            " -5.52158709 -5.39465405 -5.26772102 -5.14078798 -5.01385494 -4.88692191\n",
            " -4.75998887 -4.63305583 -4.5061228  -4.37918976 -4.25225672 -4.12532369\n",
            " -3.99839065 -3.87145761 -3.74452458 -3.61759154 -3.4906585  -3.36372547\n",
            " -3.23679243 -3.10985939 -2.98292636 -2.85599332 -2.72906028 -2.60212725\n",
            " -2.47519421 -2.34826118 -2.22132814 -2.0943951  -1.96746207 -1.84052903\n",
            " -1.71359599 -1.58666296 -1.45972992 -1.33279688 -1.20586385 -1.07893081\n",
            " -0.95199777 -0.82506474 -0.6981317  -0.57119866 -0.44426563 -0.31733259\n",
            " -0.19039955 -0.06346652  0.06346652  0.19039955  0.31733259  0.44426563\n",
            "  0.57119866  0.6981317   0.82506474  0.95199777  1.07893081  1.20586385\n",
            "  1.33279688  1.45972992  1.58666296  1.71359599  1.84052903  1.96746207\n",
            "  2.0943951   2.22132814  2.34826118  2.47519421  2.60212725  2.72906028\n",
            "  2.85599332  2.98292636  3.10985939  3.23679243  3.36372547  3.4906585\n",
            "  3.61759154  3.74452458  3.87145761  3.99839065  4.12532369  4.25225672\n",
            "  4.37918976  4.5061228   4.63305583  4.75998887  4.88692191  5.01385494\n",
            "  5.14078798  5.26772102  5.39465405  5.52158709  5.64852012  5.77545316\n",
            "  5.9023862   6.02931923  6.15625227  6.28318531]\n"
          ]
        }
      ]
    },
    {
      "cell_type": "code",
      "source": [
        "plt.plot(tigar,np.sin(tigar),color='black')\n",
        "plt.title(\"sin(x)\")\n",
        "plt.show()"
      ],
      "metadata": {
        "colab": {
          "base_uri": "https://localhost:8080/",
          "height": 452
        },
        "id": "njmVR3nv2QW8",
        "outputId": "b3c8617b-cda8-4d2d-ded0-2ed4ce24192b"
      },
      "execution_count": null,
      "outputs": [
        {
          "output_type": "display_data",
          "data": {
            "text/plain": [
              "<Figure size 640x480 with 1 Axes>"
            ],
            "image/png": "[encoded data removed]"
          },
          "metadata": {}
        }
      ]
    },
    {
      "cell_type": "code",
      "source": [
        "overs = np.arange(5,50,5)\n",
        "overs_a = np.arange(5,30,5)\n",
        "#creating y\n",
        "runs_i = np.array([25,51,84,131,160,189,220,250,267])\n",
        "runs_a = np.array([15,41,94,110,151])\n",
        "wickets = np.array([12,32,96])\n",
        "#plotting\n",
        "plt.plot(overs,runs_i,color='blue',label='India')\n",
        "plt.plot(overs_a,runs_a,color='yellow',label = 'Aus')\n",
        "#combining two graphs\n",
        "plt.legend(loc='best')\n",
        "plt.show()"
      ],
      "metadata": {
        "colab": {
          "base_uri": "https://localhost:8080/",
          "height": 430
        },
        "id": "a_htncSW3hgk",
        "outputId": "5e6c37fd-59cd-4de2-8c09-13c63c9a24e7"
      },
      "execution_count": null,
      "outputs": [
        {
          "output_type": "display_data",
          "data": {
            "text/plain": [
              "<Figure size 640x480 with 1 Axes>"
            ],
            "image/png": "[encoded data removed]"
          },
          "metadata": {}
        }
      ]
    },
    {
      "cell_type": "code",
      "source": [
        "import matplotlib.pyplot as plt\n",
        "a = [230,560,780,127,128]\n",
        "b = [200,160,270,127,400]\n",
        "years = [1,2,3,4]\n",
        "profit_a = [(a[i]-a[i-1]) for i in range(1,len(a))]\n",
        "profit_b = [(b[i]-b[i-1]) for i in range(1,len(b))]\n",
        "plt.subplot(2,1,2)\n",
        "plt.plot(years,profit_a,color='hotpink',linewidth = '5',label =\n",
        "'CompanyA',marker='.',ms='25',mec='k')\n",
        "#plt.subplot(2,1,1)\n",
        "#plt.plot(years,profit_b,color='black',linestyle='dotted',label =\n",
        "#'CompanyB',marker = 'H')\n",
        "plt.show()"
      ],
      "metadata": {
        "colab": {
          "base_uri": "https://localhost:8080/",
          "height": 430
        },
        "id": "ZGkb5h1g2gZy",
        "outputId": "0fbb9e34-ff90-49b8-90dc-96f543c4e15c"
      },
      "execution_count": null,
      "outputs": [
        {
          "output_type": "display_data",
          "data": {
            "text/plain": [
              "<Figure size 640x480 with 1 Axes>"
            ],
            "image/png": "[encoded data removed]"
          },
          "metadata": {}
        }
      ]
    },
    {
      "cell_type": "code",
      "source": [
        "a = np.array([25,60,5,10])\n",
        "labe = [\"AIML\",\"Python\",\"Pandas\",\"Numpy\"]\n",
        "color = ['green','pink','blue','yellow']\n",
        "plt.pie(a,labels = labe,colors= color)\n",
        "plt.legend()\n",
        "plt.show()"
      ],
      "metadata": {
        "colab": {
          "base_uri": "https://localhost:8080/",
          "height": 406
        },
        "id": "bsehyp5Z9Uer",
        "outputId": "4e1a4ee4-d853-4c9b-ab12-27ac7edd80e6"
      },
      "execution_count": null,
      "outputs": [
        {
          "output_type": "display_data",
          "data": {
            "text/plain": [
              "<Figure size 640x480 with 1 Axes>"
            ],
            "image/png": "[encoded data removed]"
          },
          "metadata": {}
        }
      ]
    },
    {
      "cell_type": "code",
      "source": [
        "a = np.array([25,60,5,10])\n",
        "labe = [\"AIML\",\"Python\",\"Pandas\",\"Numpy\"]\n",
        "explo = [0.2,0,0,0]\n",
        "plt.pie(a,labels = labe,explode = explo,startangle=90)\n",
        "plt.legend()\n",
        "plt.show()"
      ],
      "metadata": {
        "colab": {
          "base_uri": "https://localhost:8080/",
          "height": 406
        },
        "id": "VzJCtD5h-0bc",
        "outputId": "9fcb391e-b34c-4e12-a0ee-be7a18a48d8b"
      },
      "execution_count": null,
      "outputs": [
        {
          "output_type": "display_data",
          "data": {
            "text/plain": [
              "<Figure size 640x480 with 1 Axes>"
            ],
            "image/png": "[encoded data removed]"
          },
          "metadata": {}
        }
      ]
    },
    {
      "cell_type": "code",
      "source": [
        "a = np.array([25,60,5,10])\n",
        "labe = [\"AIML\",\"Python\",\"Pandas\",\"Numpy\"]\n",
        "explo = [0.3,0,0,0]\n",
        "plt.pie(a,labels = labe,explode = explo,shadow=True)\n",
        "plt.legend()\n",
        "plt.show()"
      ],
      "metadata": {
        "colab": {
          "base_uri": "https://localhost:8080/",
          "height": 406
        },
        "id": "L8yzrkTo_PUB",
        "outputId": "74ffac6d-a4b3-45c2-964b-a2613e101624"
      },
      "execution_count": null,
      "outputs": [
        {
          "output_type": "display_data",
          "data": {
            "text/plain": [
              "<Figure size 640x480 with 1 Axes>"
            ],
            "image/png": "[encoded data removed]"
          },
          "metadata": {}
        }
      ]
    }
  ]
}